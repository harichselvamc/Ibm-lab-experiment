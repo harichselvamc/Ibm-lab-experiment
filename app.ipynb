{
 "cells": [
  {
   "cell_type": "code",
   "execution_count": 1,
   "metadata": {},
   "outputs": [
    {
     "name": "stdout",
     "output_type": "stream",
     "text": [
      "<class 'pandas.core.frame.DataFrame'>\n",
      "RangeIndex: 5572 entries, 0 to 5571\n",
      "Data columns (total 2 columns):\n",
      " #   Column     Non-Null Count  Dtype \n",
      "---  ------     --------------  ----- \n",
      " 0   Label      5572 non-null   object\n",
      " 1   EmailText  5572 non-null   object\n",
      "dtypes: object(2)\n",
      "memory usage: 87.2+ KB\n",
      "Model Accuracy: 0.9691313711414213\n",
      "Classification Report:\n",
      "               precision    recall  f1-score   support\n",
      "\n",
      "         ham       0.97      1.00      0.98      2388\n",
      "        spam       1.00      0.79      0.88       398\n",
      "\n",
      "    accuracy                           0.97      2786\n",
      "   macro avg       0.98      0.89      0.93      2786\n",
      "weighted avg       0.97      0.97      0.97      2786\n",
      "\n",
      "Confusion Matrix:\n",
      " [[2387    1]\n",
      " [  85  313]]\n"
     ]
    },
    {
     "name": "stderr",
     "output_type": "stream",
     "text": [
      "C:\\Users\\haric\\AppData\\Local\\Temp\\ipykernel_6104\\176524586.py:44: FutureWarning: pandas.value_counts is deprecated and will be removed in a future version. Use pd.Series(obj).value_counts() instead.\n",
      "  n = pd.value_counts(data[\"Label\"], sort=True)\n"
     ]
    },
    {
     "data": {
      "image/png": "[encoded data removed]",
      "text/plain": [
       "<Figure size 640x480 with 1 Axes>"
      ]
     },
     "metadata": {},
     "output_type": "display_data"
    }
   ],
   "source": [
    "import pandas as pd \n",
    "import matplotlib.pyplot as plt \n",
    "from sklearn.feature_extraction.text import CountVectorizer \n",
    "from sklearn.model_selection import train_test_split \n",
    "from sklearn.svm import SVC \n",
    "from sklearn.metrics import accuracy_score, classification_report, confusion_matrix \n",
    "\n",
    "# Load the dataset\n",
    "data = pd.read_csv(r'spam.csv') \n",
    "\n",
    "# Display basic information about the dataset\n",
    "data.head() \n",
    "data.info() \n",
    "data.describe() \n",
    "\n",
    "# Extract features and labels\n",
    "X = data['EmailText'].values \n",
    "y = data['Label'].values \n",
    "\n",
    "# Split the data into training and testing sets\n",
    "X_train, X_test, y_train, y_test = train_test_split(X, y, test_size=0.5, random_state=0) \n",
    "\n",
    "# Vectorize the text data\n",
    "cv = CountVectorizer()   \n",
    "X_train = cv.fit_transform(X_train) \n",
    "X_test = cv.transform(X_test) \n",
    "\n",
    "# Train the SVM model\n",
    "classifier = SVC(kernel='rbf', random_state=10)  # rbf -> Radial Basis Function \n",
    "classifier.fit(X_train, y_train) \n",
    "\n",
    "# Make predictions\n",
    "y_pred = classifier.predict(X_test) \n",
    "\n",
    "# Compare actual vs predicted labels\n",
    "comparison_df = pd.DataFrame({'Actual': y_test, 'Predicted': y_pred}) \n",
    "\n",
    "# Print evaluation metrics\n",
    "print(\"Model Accuracy:\", accuracy_score(y_test, y_pred)) \n",
    "print(\"Classification Report:\\n\", classification_report(y_test, y_pred)) \n",
    "print(\"Confusion Matrix:\\n\", confusion_matrix(y_test, y_pred)) \n",
    "\n",
    "# Visualize label distribution\n",
    "n = pd.value_counts(data[\"Label\"], sort=True) \n",
    "n.plot(kind='barh', color=[\"green\", \"red\"]) \n",
    "plt.title('Label Distribution') \n",
    "plt.xlabel('Count') \n",
    "plt.ylabel('Label') \n",
    "plt.show()\n"
   ]
  },
  {
   "cell_type": "code",
   "execution_count": 1,
   "metadata": {},
   "outputs": [
    {
     "name": "stdout",
     "output_type": "stream",
     "text": [
      "Collecting ibm-watson\n",
      "  Using cached ibm_watson-8.1.0.tar.gz (400 kB)\n",
      "  Installing build dependencies: started\n",
      "  Installing build dependencies: finished with status 'done'\n",
      "  Getting requirements to build wheel: started\n",
      "  Getting requirements to build wheel: finished with status 'done'\n",
      "  Preparing metadata (pyproject.toml): started\n",
      "  Preparing metadata (pyproject.toml): finished with status 'done'\n",
      "Requirement already satisfied: requests<3.0,>=2.0 in c:\\users\\haric\\anaconda3\\envs\\client\\lib\\site-packages (from ibm-watson) (2.32.2)\n",
      "Requirement already satisfied: python-dateutil>=2.5.3 in c:\\users\\haric\\anaconda3\\envs\\client\\lib\\site-packages (from ibm-watson) (2.9.0)\n",
      "Collecting websocket-client>=1.1.0 (from ibm-watson)\n",
      "  Downloading websocket_client-1.8.0-py3-none-any.whl.metadata (8.0 kB)\n",
      "Collecting ibm-cloud-sdk-core==3.*,>=3.3.6 (from ibm-watson)\n",
      "  Using cached ibm_cloud_sdk_core-3.20.6-py3-none-any.whl.metadata (5.5 kB)\n",
      "Requirement already satisfied: urllib3<3.0.0,>=2.1.0 in c:\\users\\haric\\anaconda3\\envs\\client\\lib\\site-packages (from ibm-cloud-sdk-core==3.*,>=3.3.6->ibm-watson) (2.2.2)\n",
      "Requirement already satisfied: PyJWT<3.0.0,>=2.8.0 in c:\\users\\haric\\anaconda3\\envs\\client\\lib\\site-packages (from ibm-cloud-sdk-core==3.*,>=3.3.6->ibm-watson) (2.9.0)\n",
      "Requirement already satisfied: six>=1.5 in c:\\users\\haric\\anaconda3\\envs\\client\\lib\\site-packages (from python-dateutil>=2.5.3->ibm-watson) (1.16.0)\n",
      "Requirement already satisfied: charset-normalizer<4,>=2 in c:\\users\\haric\\anaconda3\\envs\\client\\lib\\site-packages (from requests<3.0,>=2.0->ibm-watson) (3.3.2)\n",
      "Requirement already satisfied: idna<4,>=2.5 in c:\\users\\haric\\anaconda3\\envs\\client\\lib\\site-packages (from requests<3.0,>=2.0->ibm-watson) (3.8)\n",
      "Requirement already satisfied: certifi>=2017.4.17 in c:\\users\\haric\\anaconda3\\envs\\client\\lib\\site-packages (from requests<3.0,>=2.0->ibm-watson) (2024.7.4)\n",
      "Using cached ibm_cloud_sdk_core-3.20.6-py3-none-any.whl (60 kB)\n",
      "Downloading websocket_client-1.8.0-py3-none-any.whl (58 kB)\n",
      "Building wheels for collected packages: ibm-watson\n",
      "  Building wheel for ibm-watson (pyproject.toml): started\n",
      "  Building wheel for ibm-watson (pyproject.toml): finished with status 'done'\n",
      "  Created wheel for ibm-watson: filename=ibm_watson-8.1.0-py3-none-any.whl size=402569 sha256=72aeeaa49049df9961608275154d2b39ad059664f48560de71d7b51e6e86ba07\n",
      "  Stored in directory: c:\\users\\haric\\appdata\\local\\pip\\cache\\wheels\\85\\70\\50\\ade53c85b8a04bd309db0972cf097d6898076d30063ed76018\n",
      "Successfully built ibm-watson\n",
      "Installing collected packages: websocket-client, ibm-cloud-sdk-core, ibm-watson\n",
      "Successfully installed ibm-cloud-sdk-core-3.20.6 ibm-watson-8.1.0 websocket-client-1.8.0\n"
     ]
    }
   ],
   "source": [
    "!pip install ibm-watson"
   ]
  },
  {
   "cell_type": "code",
   "execution_count": 2,
   "metadata": {},
   "outputs": [
    {
     "name": "stdout",
     "output_type": "stream",
     "text": [
      "Audio content written to file 'output.mp3'\n"
     ]
    }
   ],
   "source": [
    "import requests\n",
    "from requests.auth import HTTPBasicAuth\n",
    "\n",
    "# Updated URL and API key\n",
    "url = 'https://api.eu-gb.text-to-speech.watson.cloud.ibm.com/instances/729cbbf2-9862-4623-8ad2-fd6e4b739c75/v1/synthesize'\n",
    "api_key = 'OZ4EZ3_k6B0IAjGAhfxM8xv4E7aydO1U4w8TnknFFMTD'\n",
    "\n",
    "# Text to convert to speech\n",
    "text = \"How many times do I have to tell you the same thing? You never listen.\"\n",
    "\n",
    "# Headers and data payload\n",
    "headers = {\n",
    "    'Content-Type': 'application/json',\n",
    "    'Accept': 'audio/mp3'  # Request MP3 format\n",
    "}\n",
    "data = {\n",
    "    'text': text,\n",
    "    'voice': 'en-US_AllisonV3Voice'\n",
    "}\n",
    "\n",
    "# Making the request\n",
    "response = requests.post(\n",
    "    url,\n",
    "    headers=headers,\n",
    "    json=data,\n",
    "    auth=HTTPBasicAuth('apikey', api_key)\n",
    ")\n",
    "\n",
    "# Handling the response\n",
    "if response.status_code != 200:\n",
    "    print(f\"Error: {response.status_code} - {response.text}\")\n",
    "else:\n",
    "    with open('output.mp3', 'wb') as audio_file:\n",
    "        audio_file.write(response.content)\n",
    "    print(\"Audio content written to file 'output.mp3'\")\n"
   ]
  },
  {
   "cell_type": "code",
   "execution_count": 4,
   "metadata": {},
   "outputs": [
    {
     "name": "stdout",
     "output_type": "stream",
     "text": [
      "Transcribed Text: how many times do I have to tell you the same thing you never listen \n"
     ]
    }
   ],
   "source": [
    "from ibm_watson import SpeechToTextV1\n",
    "from ibm_cloud_sdk_core.authenticators import IAMAuthenticator\n",
    "\n",
    "# Updated API key and URL\n",
    "apikey = \"5YweKca5IpsSAW-uXaw5QD8sl2KZOD5NWzqUueK4lbG0\"\n",
    "url = \"https://api.eu-gb.speech-to-text.watson.cloud.ibm.com/instances/e7c5cb9d-cb6f-4305-965d-27a8cd28edf6\"\n",
    "\n",
    "# Authentication\n",
    "authenticator = IAMAuthenticator(apikey)\n",
    "speech_to_text = SpeechToTextV1(authenticator=authenticator)\n",
    "speech_to_text.set_service_url(url)\n",
    "\n",
    "# Audio file path\n",
    "audio_file_path = \"output.mp3\"\n",
    "\n",
    "# Recognizing speech from audio file\n",
    "try:\n",
    "    with open(audio_file_path, 'rb') as audio_file:\n",
    "        result = speech_to_text.recognize(\n",
    "            audio=audio_file,\n",
    "            content_type='audio/mp3',\n",
    "            model='en-US_BroadbandModel'\n",
    "        ).get_result()\n",
    "\n",
    "    # Extracting and printing the transcribed text\n",
    "    text = result['results'][0]['alternatives'][0]['transcript']\n",
    "    print(f\"Transcribed Text: {text}\")\n",
    "\n",
    "except Exception as e:\n",
    "    print(f\"An error occurred: {e}\")\n"
   ]
  },
  {
   "cell_type": "code",
   "execution_count": null,
   "metadata": {},
   "outputs": [],
   "source": []
  }
 ],
 "metadata": {
  "kernelspec": {
   "display_name": "client",
   "language": "python",
   "name": "python3"
  },
  "language_info": {
   "codemirror_mode": {
    "name": "ipython",
    "version": 3
   },
   "file_extension": ".py",
   "mimetype": "text/x-python",
   "name": "python",
   "nbconvert_exporter": "python",
   "pygments_lexer": "ipython3",
   "version": "3.9.19"
  }
 },
 "nbformat": 4,
 "nbformat_minor": 2
}
