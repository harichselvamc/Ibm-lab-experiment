{
 "cells": [
  {
   "cell_type": "code",
   "execution_count": 2,
   "metadata": {},
   "outputs": [
    {
     "name": "stdout",
     "output_type": "stream",
     "text": [
      "\n",
      "Classification Report:\n",
      "               precision    recall  f1-score   support\n",
      "\n",
      "         ham       0.98      1.00      0.99       965\n",
      "        spam       0.97      0.84      0.90       150\n",
      "\n",
      "    accuracy                           0.97      1115\n",
      "   macro avg       0.97      0.92      0.94      1115\n",
      "weighted avg       0.97      0.97      0.97      1115\n",
      "\n",
      "\n",
      "Test Input: Congratulations! You've won a free ticket. Call now to claim your prize.\n",
      "Predicted Label: spam\n",
      "\n",
      "Test Input: Hey, are we still meeting tomorrow at 5 PM?\n",
      "Predicted Label: ham\n"
     ]
    }
   ],
   "source": [
    "import pandas as pd\n",
    "from sklearn.model_selection import train_test_split\n",
    "from sklearn.svm import SVC\n",
    "from sklearn.feature_extraction.text import TfidfVectorizer\n",
    "from sklearn.preprocessing import LabelEncoder\n",
    "from sklearn.metrics import classification_report\n",
    "\n",
    "# Load dataset\n",
    "data = pd.read_csv('spam.csv')  # Replace 'email_data.csv' with your actual file path\n",
    "\n",
    "# Extract features and target variable\n",
    "X = data['EmailText'].astype(str)  # Convert the 'EmailText' column to string type\n",
    "y = data['Label']  # Use 'Label' column as the target\n",
    "\n",
    "# Encode the 'Label' column (ham -> 0, spam -> 1)\n",
    "label_encoder = LabelEncoder()\n",
    "y = label_encoder.fit_transform(y)\n",
    "\n",
    "# Vectorize text data\n",
    "vectorizer = TfidfVectorizer(stop_words='english')\n",
    "X = vectorizer.fit_transform(X)\n",
    "\n",
    "# Split the data\n",
    "X_train, X_test, y_train, y_test = train_test_split(X, y, test_size=0.2, random_state=42)\n",
    "\n",
    "# Train Support Vector Machine Classifier\n",
    "model = SVC(kernel='linear')\n",
    "model.fit(X_train, y_train)\n",
    "\n",
    "# Make predictions on the test set\n",
    "y_pred = model.predict(X_test)\n",
    "\n",
    "# Evaluate the model\n",
    "print(\"\\nClassification Report:\\n\", classification_report(y_test, y_pred, target_names=label_encoder.classes_))\n",
    "\n",
    "# Test input for prediction\n",
    "test_input = [\"Congratulations! You've won a free ticket. Call now to claim your prize.\"]\n",
    "test_input_transformed = vectorizer.transform(test_input)\n",
    "prediction = model.predict(test_input_transformed)\n",
    "predicted_label = label_encoder.inverse_transform(prediction)\n",
    "\n",
    "print(f\"\\nTest Input: {test_input[0]}\")\n",
    "print(f\"Predicted Label: {predicted_label[0]}\")\n",
    "# Test input for prediction\n",
    "test_input = [\"Hey, are we still meeting tomorrow at 5 PM?\"]\n",
    "\n",
    "test_input_transformed = vectorizer.transform(test_input)\n",
    "prediction = model.predict(test_input_transformed)\n",
    "predicted_label = label_encoder.inverse_transform(prediction)\n",
    "\n",
    "print(f\"\\nTest Input: {test_input[0]}\")\n",
    "print(f\"Predicted Label: {predicted_label[0]}\")\n"
   ]
  },
  {
   "cell_type": "code",
   "execution_count": null,
   "metadata": {},
   "outputs": [],
   "source": []
  }
 ],
 "metadata": {
  "kernelspec": {
   "display_name": "base",
   "language": "python",
   "name": "python3"
  },
  "language_info": {
   "codemirror_mode": {
    "name": "ipython",
    "version": 3
   },
   "file_extension": ".py",
   "mimetype": "text/x-python",
   "name": "python",
   "nbconvert_exporter": "python",
   "pygments_lexer": "ipython3",
   "version": "3.12.7"
  }
 },
 "nbformat": 4,
 "nbformat_minor": 2
}
