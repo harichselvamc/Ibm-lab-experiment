{
 "cells": [
  {
   "cell_type": "code",
   "execution_count": 1,
   "metadata": {},
   "outputs": [],
   "source": [
    "import cv2\n",
    "\n",
    "# Load the image\n",
    "image = cv2.imread('dog.jpg')  # Replace 'test.jpg' with your image file\n",
    "\n",
    "# Check if the image was loaded successfully\n",
    "if image is None:\n",
    "    print(\"Error: Unable to load image. Please check the file path.\")\n",
    "else:\n",
    "    # 1. Resize the image\n",
    "    resized_image = cv2.resize(image, (400, 400))\n",
    "    cv2.imshow('Resized Image', resized_image)\n",
    "\n",
    "    # 2. Convert to grayscale\n",
    "    gray_image = cv2.cvtColor(resized_image, cv2.COLOR_BGR2GRAY)\n",
    "    cv2.imshow('Grayscale Image', gray_image)\n",
    "\n",
    "    # 3. Apply Gaussian Blur\n",
    "    blurred_image = cv2.GaussianBlur(gray_image, (5, 5), 0)\n",
    "    cv2.imshow('Blurred Image', blurred_image)\n",
    "\n",
    "    # 4. Edge Detection using Canny\n",
    "    edges = cv2.Canny(blurred_image, 100, 200)\n",
    "    cv2.imshow('Edge Detection', edges)\n",
    "\n",
    "    # 5. Image Thresholding (Binary Threshold)\n",
    "    _, threshold_image = cv2.threshold(gray_image, 127, 255, cv2.THRESH_BINARY)\n",
    "    cv2.imshow('Threshold Image', threshold_image)\n",
    "\n",
    "    # 6. Erosion and Dilation\n",
    "    kernel = cv2.getStructuringElement(cv2.MORPH_RECT, (5, 5))\n",
    "    eroded_image = cv2.erode(threshold_image, kernel, iterations=1)\n",
    "    dilated_image = cv2.dilate(threshold_image, kernel, iterations=1)\n",
    "    cv2.imshow('Eroded Image', eroded_image)\n",
    "    cv2.imshow('Dilated Image', dilated_image)\n",
    "\n",
    "    # 7. Rotate the Image\n",
    "    # Get the dimensions of the image\n",
    "    (height, width) = resized_image.shape[:2]\n",
    "    center = (width // 2, height // 2)\n",
    "\n",
    "    # Define the rotation matrix (45 degrees counterclockwise)\n",
    "    rotation_matrix = cv2.getRotationMatrix2D(center, 45, 1.0)\n",
    "    rotated_image = cv2.warpAffine(resized_image, rotation_matrix, (width, height))\n",
    "    cv2.imshow('Rotated Image', rotated_image)\n",
    "\n",
    "    # 8. Contour Detection\n",
    "    contours, _ = cv2.findContours(threshold_image, cv2.RETR_EXTERNAL, cv2.CHAIN_APPROX_SIMPLE)\n",
    "    contour_image = resized_image.copy()\n",
    "    cv2.drawContours(contour_image, contours, -1, (0, 255, 0), 2)\n",
    "    cv2.imshow('Contours', contour_image)\n",
    "\n",
    "    # Wait for a key press and close all windows\n",
    "    cv2.waitKey(0)\n",
    "    cv2.destroyAllWindows()\n"
   ]
  },
  {
   "cell_type": "code",
   "execution_count": null,
   "metadata": {},
   "outputs": [],
   "source": []
  }
 ],
 "metadata": {
  "kernelspec": {
   "display_name": "base",
   "language": "python",
   "name": "python3"
  },
  "language_info": {
   "codemirror_mode": {
    "name": "ipython",
    "version": 3
   },
   "file_extension": ".py",
   "mimetype": "text/x-python",
   "name": "python",
   "nbconvert_exporter": "python",
   "pygments_lexer": "ipython3",
   "version": "3.12.7"
  }
 },
 "nbformat": 4,
 "nbformat_minor": 2
}
